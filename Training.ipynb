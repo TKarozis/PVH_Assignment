{
 "cells": [
  {
   "cell_type": "markdown",
   "id": "8dcef038-acda-489a-b5c1-3746a2970f3b",
   "metadata": {},
   "source": [
    "# Load necessary libraries"
   ]
  },
  {
   "cell_type": "code",
   "execution_count": 1,
   "id": "08c564d7-531a-4b9d-8b97-c236124ef6b7",
   "metadata": {},
   "outputs": [],
   "source": [
    "import pandas as pd\n",
    "import numpy as np\n",
    "import xgboost as xgb\n",
    "import shap\n",
    "\n",
    "from standard_functions import *\n",
    "\n",
    "from pandas_profiling import ProfileReport "
   ]
  },
  {
   "cell_type": "code",
   "execution_count": 2,
   "id": "dcfea341-dd5c-4dc0-a7da-e1ab2256826d",
   "metadata": {},
   "outputs": [],
   "source": [
    "params = {\n",
    "    'continuous_vars' : ['OrderedUnits',\n",
    "                         'OrderedValue',\n",
    "                         'materailSize_encoded',\n",
    "                         'business_encoded',\n",
    "                         'productGroup_encoded',\n",
    "                         'division_encoded',\n",
    "                         'mainColor_encoded',\n",
    "                         'country_encoded',\n",
    "                         'webBrowser_encoded',\n",
    "                         'webCategory_encoded',\n",
    "                         'webSource_encoded'\n",
    "                        ],\n",
    "    \n",
    "     'categorical_vars' : ['world', \n",
    "                           'lifeStyle', \n",
    "                           'optionType',\n",
    "                           'fashionability',\n",
    "                           'gender',\n",
    "                          'webChannel',\n",
    "                          'webConnection',\n",
    "                          'webDepartment',\n",
    "                           'webDevice',\n",
    "                           'paymentMethod',\n",
    "                           'seasonCategory',\n",
    "                           'season',\n",
    "                           'collection'\n",
    "                          ]\n",
    "}"
   ]
  },
  {
   "cell_type": "markdown",
   "id": "3ae7a1b4-b9ea-44cd-9952-d8c4d6d18711",
   "metadata": {},
   "source": [
    "# Read dataset"
   ]
  },
  {
   "cell_type": "code",
   "execution_count": 3,
   "id": "5348e826-e3ce-41bd-b1b7-cb41a964c7da",
   "metadata": {},
   "outputs": [],
   "source": [
    "dataset = pd.read_parquet('Dataset/assignment_dataset_anonymized.pq', engine='fastparquet')\n",
    "dataset_ = dataset.copy()"
   ]
  },
  {
   "cell_type": "markdown",
   "id": "46093631-ee88-4b72-929d-0dd8ebc2dd22",
   "metadata": {},
   "source": [
    "# Preprocess trainset and testset"
   ]
  },
  {
   "cell_type": "code",
   "execution_count": 4,
   "id": "b24678ba-1b95-4dc4-a646-f5de94078fa8",
   "metadata": {},
   "outputs": [
    {
     "name": "stderr",
     "output_type": "stream",
     "text": [
      "\n",
      "A value is trying to be set on a copy of a slice from a DataFrame\n",
      "\n",
      "See the caveats in the documentation: https://pandas.pydata.org/pandas-docs/stable/user_guide/indexing.html#returning-a-view-versus-a-copy\n"
     ]
    }
   ],
   "source": [
    "dataset_preprocessed = preprocess_function(dataset_, params = params)"
   ]
  },
  {
   "cell_type": "code",
   "execution_count": 5,
   "id": "3cb30d46-410c-4efc-b887-8b7a5b951b15",
   "metadata": {},
   "outputs": [],
   "source": [
    "X_train, y_train, X_test, y_test = split_preprocess_dataset(dataset_preprocessed, params)"
   ]
  },
  {
   "cell_type": "markdown",
   "id": "b11c9a4b-1f93-4e91-b0b8-d59714cf8443",
   "metadata": {},
   "source": [
    "# Train XGBoost model"
   ]
  },
  {
   "cell_type": "code",
   "execution_count": 6,
   "id": "86e6fdaa-334e-442c-a279-43872276206b",
   "metadata": {},
   "outputs": [
    {
     "name": "stderr",
     "output_type": "stream",
     "text": [
      "The use of label encoder in XGBClassifier is deprecated and will be removed in a future release. To remove this warning, do the following: 1) Pass option use_label_encoder=False when constructing XGBClassifier object; and 2) Encode your labels (y) as integers starting with 0, i.e. 0, 1, 2, ..., [num_class - 1].\n"
     ]
    },
    {
     "name": "stdout",
     "output_type": "stream",
     "text": [
      "[11:19:14] WARNING: C:/Users/Administrator/workspace/xgboost-win64_release_1.4.0/src/learner.cc:1095: Starting in XGBoost 1.3.0, the default evaluation metric used with the objective 'binary:logistic' was changed from 'error' to 'logloss'. Explicitly set eval_metric if you'd like to restore the old behavior.\n",
      "\n",
      "XGBClassifier(base_score=0.5, booster='gbtree', colsample_bylevel=1,\n",
      "              colsample_bynode=1, colsample_bytree=0.6, gamma=0, gpu_id=-1,\n",
      "              importance_type='gain', interaction_constraints='',\n",
      "              learning_rate=0.300000012, max_delta_step=0, max_depth=6,\n",
      "              min_child_weight=1, missing=nan, monotone_constraints='()',\n",
      "              n_estimators=20, n_jobs=200, num_parallel_tree=20, random_state=0,\n",
      "              reg_alpha=0, reg_lambda=1, scale_pos_weight=1, subsample=0.7,\n",
      "              tree_method='hist', validate_parameters=1, verbosity=None)\n"
     ]
    }
   ],
   "source": [
    "model = xgb.XGBClassifier(base_score=0.5, booster='gbtree', colsample_bylevel=1,\n",
    "              colsample_bynode=1, colsample_bytree=0.6, gamma=0, gpu_id=-1,\n",
    "              importance_type='gain', interaction_constraints='',\n",
    "              learning_rate=0.300000012, max_delta_step=0, max_depth=6,\n",
    "              min_child_weight=1,  monotone_constraints='()',\n",
    "              n_estimators=20, n_jobs=200, num_parallel_tree=20, random_state=0,\n",
    "              reg_alpha=0, reg_lambda=1, scale_pos_weight=1, subsample=0.7,\n",
    "              tree_method='hist', validate_parameters=1, verbosity=None)\n",
    "model.fit(X_train, y_train)\n",
    "print(); print(model)"
   ]
  },
  {
   "cell_type": "markdown",
   "id": "d2d0c572-ee27-4bcb-843f-7cad0fd573a2",
   "metadata": {},
   "source": [
    "# Evaluate Prediction Model"
   ]
  },
  {
   "cell_type": "code",
   "execution_count": 7,
   "id": "d467fa48-4683-4352-863a-f7a52c55c3f2",
   "metadata": {},
   "outputs": [],
   "source": [
    "expected_y  = y_test\n",
    "predicted_y = model.predict(X_test)"
   ]
  },
  {
   "cell_type": "code",
   "execution_count": 8,
   "id": "69e3b1e5-816b-418c-a09e-3af765428ab4",
   "metadata": {},
   "outputs": [
    {
     "name": "stdout",
     "output_type": "stream",
     "text": [
      "              precision    recall  f1-score   support\n",
      "\n",
      "           0       0.79      0.92      0.85    394601\n",
      "           1       0.61      0.33      0.43    144940\n",
      "\n",
      "    accuracy                           0.76    539541\n",
      "   macro avg       0.70      0.62      0.64    539541\n",
      "weighted avg       0.74      0.76      0.74    539541\n",
      "\n",
      "[[364013  30588]\n",
      " [ 97502  47438]]\n"
     ]
    }
   ],
   "source": [
    "from sklearn import metrics\n",
    "\n",
    "print(metrics.classification_report(expected_y, predicted_y))\n",
    "print(metrics.confusion_matrix(expected_y, predicted_y))"
   ]
  },
  {
   "cell_type": "markdown",
   "id": "a1a801bc-338b-4555-9a51-273c86bfbd47",
   "metadata": {},
   "source": [
    "# Feature Importance"
   ]
  },
  {
   "cell_type": "code",
   "execution_count": 9,
   "id": "92b12d0c-9f82-4ddf-b147-2c1f38bdf20b",
   "metadata": {},
   "outputs": [],
   "source": [
    "explainer = shap.TreeExplainer(model, data = X_train)"
   ]
  },
  {
   "cell_type": "code",
   "execution_count": 10,
   "id": "3482482c-dc99-4419-8628-1ca128ff705a",
   "metadata": {},
   "outputs": [
    {
     "name": "stderr",
     "output_type": "stream",
     "text": [
      "100%|===================| 9961/10000 [02:50<00:00]        "
     ]
    }
   ],
   "source": [
    "intervational_shap_values = explainer.shap_values(X_test[:10000])"
   ]
  },
  {
   "cell_type": "code",
   "execution_count": 11,
   "id": "770e3459-489f-4782-804a-d16ecaeeba74",
   "metadata": {},
   "outputs": [
    {
     "data": {
      "image/png": "[encoded data removed]",
      "text/plain": [
       "<Figure size 576x684 with 1 Axes>"
      ]
     },
     "metadata": {
      "needs_background": "light"
     },
     "output_type": "display_data"
    }
   ],
   "source": [
    "bar_plot = shap.summary_plot(shap_values=intervational_shap_values, features = X_test, plot_type = 'bar')"
   ]
  }
 ],
 "metadata": {
  "kernelspec": {
   "display_name": "Python 3",
   "language": "python",
   "name": "python3"
  },
  "language_info": {
   "codemirror_mode": {
    "name": "ipython",
    "version": 3
   },
   "file_extension": ".py",
   "mimetype": "text/x-python",
   "name": "python",
   "nbconvert_exporter": "python",
   "pygments_lexer": "ipython3",
   "version": "3.8.8"
  }
 },
 "nbformat": 4,
 "nbformat_minor": 5
}
